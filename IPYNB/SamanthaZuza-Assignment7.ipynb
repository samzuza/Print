{
 "cells": [
  {
   "cell_type": "code",
   "execution_count": 11,
   "id": "bad85ab8",
   "metadata": {},
   "outputs": [
    {
     "name": "stdout",
     "output_type": "stream",
     "text": [
      "[0, 1, 2, 3, 4, 5, 6, 7, 8, 9, 10, 11, 12, 13, 14, 15, 16, 17, 18, 19, 20, 21, 22, 23, 24, 25, 26, 27, 28, 29, 30, 31, 32, 33, 34, 35, 36, 37, 38, 39, 40, 41, 42, 43, 44, 45, 46, 47, 48, 49, 50, 51, 52, 53, 54, 55, 56, 57, 58, 59, 60, 61, 62, 63, 64, 65, 66, 67, 68, 69, 70, 71, 72, 73, 74, 75, 76, 77, 78, 79, 80, 81, 82, 83, 84, 85, 86, 87, 88, 89, 90, 91, 92, 93, 94, 95, 96, 97, 98, 99]\n"
     ]
    }
   ],
   "source": [
    "# Question 3\n",
    "\n",
    "# Create a list of 100 integers whose value and index are the same, for example, L[5]=5.\n",
    "\n",
    "list = []\n",
    "i = 0\n",
    "\n",
    "while i < 100:\n",
    "    list.append(i)\n",
    "    i+=1\n",
    "    \n",
    "print(list)"
   ]
  },
  {
   "cell_type": "code",
   "execution_count": 2,
   "id": "b811b3f4",
   "metadata": {},
   "outputs": [
    {
     "name": "stdout",
     "output_type": "stream",
     "text": [
      "[1, 'b', 'hello', 15, 'e', 2]\n"
     ]
    }
   ],
   "source": [
    "# Question 13\n",
    "\n",
    "# Transform the string 'abcde' into the list [1,'b','hello',15,'e',2]. (Note that\n",
    "# there are many possible diferent answers.)\n",
    "\n",
    "letters = 'abcde'\n",
    "lettersList = list(letters)\n",
    "\n",
    "lettersList[0] = 1\n",
    "lettersList[2] = 'hello'\n",
    "lettersList[3] = 15\n",
    "lettersList.append(2)\n",
    "\n",
    "print(lettersList)"
   ]
  },
  {
   "cell_type": "code",
   "execution_count": 9,
   "id": "73e762ce",
   "metadata": {},
   "outputs": [
    {
     "name": "stdout",
     "output_type": "stream",
     "text": [
      "Type a sentence: hi Im sam\n",
      "['h', 'i', 'I', 'm', 's', 'a']\n",
      "Type a sentence: hi Im sam\n",
      "['h', 'i', 'I', 'm', 's', 'a']\n"
     ]
    }
   ],
   "source": [
    "# Question 25\n",
    "\n",
    "#Make a list of the unique letters used in a sentence. That is, if the letter “x” is used\n",
    "#twice in a sentence, it should only appear once in your list. No punctuation should\n",
    "#appear in your list. For the purpose of simplicity, consider the following characters as\n",
    "#punctuation: . , ; ? ! -\n",
    "#(a) Use a while loop.\n",
    "#(b) Use a for loop.\n",
    "\n",
    "#(a)\n",
    "sentence = input(\"Type a sentence: \")\n",
    "unique = []\n",
    "\n",
    "i = 0\n",
    "\n",
    "while(i < len(sentence)):\n",
    "    if sentence[i].isalpha():\n",
    "        if sentence[i] not in unique:\n",
    "            unique.append(sentence[i])\n",
    "    i+=1\n",
    "            \n",
    "print(unique)\n",
    "\n",
    "#(b)\n",
    "phrase = input(\"Type a sentence: \")\n",
    "punctuation = [\".\", \",\", \";\", \"?\", \"!\", \"-\", \" \"]\n",
    "uniqueList = []\n",
    "\n",
    "for i in phrase:\n",
    "    if i not in punctuation:\n",
    "        if i not in uniqueList:\n",
    "            uniqueList.append(i)\n",
    "            \n",
    "print(uniqueList)"
   ]
  },
  {
   "cell_type": "code",
   "execution_count": 10,
   "id": "bcfa7546",
   "metadata": {},
   "outputs": [],
   "source": [
    "# Question 32\n",
    "\n",
    "#Sort vs. Sorted:\n",
    "#(a) What is the diference between sort and sorted?\n",
    "#sort is when you sort the list, thus changing the original list, \n",
    "#whereas sorted creates a new list that is sorted and does not change the original list.\n",
    "\n",
    "#(b) Which built-in data types of Python can use each?\n",
    "#we use list data types for sort, but for sorted we can use most data types because it sorts any collection of data.\n"
   ]
  },
  {
   "cell_type": "code",
   "execution_count": 12,
   "id": "67f4c2db",
   "metadata": {},
   "outputs": [
    {
     "name": "stdout",
     "output_type": "stream",
     "text": [
      "6.555555555555555\n"
     ]
    }
   ],
   "source": [
    "# Question 34\n",
    "\n",
    "#Given a list [4,8,9,6,5,4,8,7,8] and using the len and sum functions, determine\n",
    "#the average value of the integers in the list.\n",
    "\n",
    "list = [4,8,9,6,5,4,8,7,8]\n",
    "average = (sum(list))/(len(list))\n",
    "\n",
    "print(average)"
   ]
  }
 ],
 "metadata": {
  "kernelspec": {
   "display_name": "Python 3 (ipykernel)",
   "language": "python",
   "name": "python3"
  },
  "language_info": {
   "codemirror_mode": {
    "name": "ipython",
    "version": 3
   },
   "file_extension": ".py",
   "mimetype": "text/x-python",
   "name": "python",
   "nbconvert_exporter": "python",
   "pygments_lexer": "ipython3",
   "version": "3.9.12"
  }
 },
 "nbformat": 4,
 "nbformat_minor": 5
}
