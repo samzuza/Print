{
 "cells": [
  {
   "cell_type": "code",
   "execution_count": 2,
   "id": "9ad3d1b7",
   "metadata": {},
   "outputs": [
    {
     "name": "stdout",
     "output_type": "stream",
     "text": [
      "The value at key 'x' is 7\n",
      "The key given value 7 is x\n"
     ]
    }
   ],
   "source": [
    "# Question 4\n",
    "\n",
    "#Given D = {'a':3, 'x':7, 'r':5}:\n",
    "#(a) Write Python code that returns the value at key 'x'.\n",
    "D = {'a':3, 'x':7, 'r':5}\n",
    "print(\"The value at key 'x' is\", D[\"x\"])\n",
    "\n",
    "\n",
    "#(b) Write Python code that returns the key given value '7'.\n",
    "key = ''\n",
    "\n",
    "for i in D:\n",
    "    if D[i] == 7:\n",
    "        key = i\n",
    "\n",
    "print(\"The key given value 7 is\", key)"
   ]
  },
  {
   "cell_type": "code",
   "execution_count": 5,
   "id": "2e08e712",
   "metadata": {},
   "outputs": [
    {
     "name": "stdout",
     "output_type": "stream",
     "text": [
      "{'Jane': 'Doe', 'John': 'Deer', 'Jack': 'Black'}\n"
     ]
    }
   ],
   "source": [
    "# Question 6\n",
    "\n",
    "#If you had 2 lists, one of first names and one of last names [‘Jane’, ‘John’, ‘Jack’] and\n",
    "#[‘Doe’, ‘Deer’, ‘Black’], use zip to create a dictionary with the keys as the first names\n",
    "#and the values as the last names.\n",
    "\n",
    "first = ['Jane', 'John', 'Jack']\n",
    "last = ['Doe', 'Deer', 'Black']\n",
    "\n",
    "zipper = zip(first, last)\n",
    "dictionary = dict(zipper)\n",
    "\n",
    "print(dictionary)"
   ]
  },
  {
   "cell_type": "code",
   "execution_count": 19,
   "id": "f9947b86",
   "metadata": {},
   "outputs": [
    {
     "name": "stdout",
     "output_type": "stream",
     "text": [
      "What is your first name?sam\n",
      "What is your last name?shia\n"
     ]
    },
    {
     "data": {
      "text/plain": [
       "['s', 'a']"
      ]
     },
     "execution_count": 19,
     "metadata": {},
     "output_type": "execute_result"
    }
   ],
   "source": [
    "# Question 15a\n",
    "\n",
    "#use methods from 9.4.5\n",
    "\n",
    "#Write a function that takes a person’s first and last names as input and\n",
    "#(a) uses lists to return a list of the common letters in the first and last names (the inter-\n",
    "#section).\n",
    "\n",
    "def name(first, last):\n",
    "    list = []\n",
    "    for i in first:\n",
    "        if i in last and i not in list:\n",
    "            list.append(i)\n",
    "    return list\n",
    "\n",
    "first = input(\"What is your first name?\")\n",
    "last = input(\"What is your last name?\")\n",
    "name(first, last)"
   ]
  },
  {
   "cell_type": "code",
   "execution_count": 24,
   "id": "f432b9c1",
   "metadata": {},
   "outputs": [
    {
     "name": "stdout",
     "output_type": "stream",
     "text": [
      "What is your first name?happt\n",
      "What is your last name?thapp\n"
     ]
    },
    {
     "data": {
      "text/plain": [
       "{'a', 'h', 'p', 't'}"
      ]
     },
     "execution_count": 24,
     "metadata": {},
     "output_type": "execute_result"
    }
   ],
   "source": [
    "# Question 15b\n",
    "\n",
    "#use methods from 9.4.5\n",
    "\n",
    "#Write a function that takes a person’s first and last names as input and\n",
    "#(b) uses sets to return a set that is the intersection of the characters in the first and last\n",
    "#names.\n",
    "\n",
    "def name(first, last):\n",
    "    firstSet = set(first)\n",
    "    lastSet = set(last)\n",
    "    \n",
    "    intersect = firstSet.intersection(lastSet)\n",
    "    return intersect\n",
    "    \n",
    "first = input(\"What is your first name?\")\n",
    "last = input(\"What is your last name?\")\n",
    "name(first, last)"
   ]
  },
  {
   "cell_type": "code",
   "execution_count": 26,
   "id": "88ded816",
   "metadata": {},
   "outputs": [
    {
     "name": "stdout",
     "output_type": "stream",
     "text": [
      "What is your first name?sam\n",
      "What is your last name?shia\n"
     ]
    },
    {
     "data": {
      "text/plain": [
       "{'h', 'i', 'm'}"
      ]
     },
     "execution_count": 26,
     "metadata": {},
     "output_type": "execute_result"
    }
   ],
   "source": [
    "# Question 15c\n",
    "\n",
    "#use methods from 9.4.5\n",
    "\n",
    "#Write a function that takes a person’s first and last names as input and\n",
    "#(c) uses sets to return the set that is the symmetric diference between the first and last\n",
    "#names.\n",
    "\n",
    "def name(first, last):\n",
    "    firstSet = set(first)\n",
    "    lastSet = set(last)\n",
    "\n",
    "    symDif = firstSet.symmetric_difference(lastSet)\n",
    "    return symDif\n",
    "\n",
    "first = input(\"What is your first name?\")\n",
    "last = input(\"What is your last name?\")\n",
    "name(first, last)"
   ]
  },
  {
   "cell_type": "code",
   "execution_count": 29,
   "id": "5a4bceb8",
   "metadata": {},
   "outputs": [
    {
     "name": "stdout",
     "output_type": "stream",
     "text": [
      "['The Hunger Games', 'Catching Fire', 'Mockingjay']\n",
      "['J.K. Rowling']\n"
     ]
    }
   ],
   "source": [
    "# Question 18\n",
    "\n",
    "#use code examples\n",
    "\n",
    "#A book could be written by a single author or multiple authors. Consider the organiza-\n",
    "#tion of a dictionary, for example, what should be used as the key in the dictionary?\n",
    "\n",
    "#(a) What should the organization of the dictionary be, if we want to find the names of\n",
    "#all the books written by a given author?\n",
    "\n",
    "#an authors name can be attached to multiple books, thus the books would be the values of the keys \n",
    "#and the authors would be the keys of the dictionary\n",
    "authors = {\"Susan Collins\" : [\"The Hunger Games\", \"Catching Fire\", \"Mockingjay\"], \"J.K. Rowling\" : [\"Harry Potter\"]}\n",
    "print(authors[\"Susan Collins\"])\n",
    "\n",
    "#(b) What should the organization of the dictionary be, if we want to find the names of\n",
    "#all the authors of a given book?\n",
    "\n",
    "#To find the names of the authors by a given book, we can use the book titles as the key names and the author as the value\n",
    "books = {\"Harry Potter\" : [\"J.K. Rowling\"]}\n",
    "print(books[\"Harry Potter\"])\n"
   ]
  },
  {
   "cell_type": "code",
   "execution_count": 34,
   "id": "83c9d46e",
   "metadata": {},
   "outputs": [
    {
     "data": {
      "text/plain": [
       "{'w': 1,\n",
       " 'r': 2,\n",
       " 'i': 3,\n",
       " 't': 6,\n",
       " 'e': 2,\n",
       " 'a': 4,\n",
       " 'f': 1,\n",
       " 'u': 1,\n",
       " 'n': 3,\n",
       " 'c': 1,\n",
       " 'o': 1,\n",
       " 'h': 1,\n",
       " 'k': 1,\n",
       " 's': 2,\n",
       " 'g': 1}"
      ]
     },
     "execution_count": 34,
     "metadata": {},
     "output_type": "execute_result"
    }
   ],
   "source": [
    "# Question 20\n",
    "\n",
    "#Write a function that takes a string as an argument and returns a dictionary whose keys\n",
    "#are letters and values are counts of those letters in the string. Ignore case.\n",
    "\n",
    "def counter(letters):\n",
    "    key = {}\n",
    "    for i in letters:\n",
    "        if i.isalpha():\n",
    "            if i not in key:\n",
    "                key[i] = letters.count(i)\n",
    "    return key\n",
    "\n",
    "counter('writeafunctionthattakesastring')"
   ]
  }
 ],
 "metadata": {
  "kernelspec": {
   "display_name": "Python 3 (ipykernel)",
   "language": "python",
   "name": "python3"
  },
  "language_info": {
   "codemirror_mode": {
    "name": "ipython",
    "version": 3
   },
   "file_extension": ".py",
   "mimetype": "text/x-python",
   "name": "python",
   "nbconvert_exporter": "python",
   "pygments_lexer": "ipython3",
   "version": "3.9.12"
  }
 },
 "nbformat": 4,
 "nbformat_minor": 5
}
