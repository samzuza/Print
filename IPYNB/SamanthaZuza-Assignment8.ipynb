{
 "cells": [
  {
   "cell_type": "code",
   "execution_count": 27,
   "id": "04d4c247",
   "metadata": {},
   "outputs": [
    {
     "name": "stdout",
     "output_type": "stream",
     "text": [
      "True\n",
      "False\n"
     ]
    }
   ],
   "source": [
    "# Question 9\n",
    "\n",
    "#Given a = [1,2,3] and b = [1,2,3], what is the result of:\n",
    "#(a) a == b\n",
    "#(b) a is b\n",
    "\n",
    "a = [1, 2, 3]\n",
    "b = [1, 2, 3]\n",
    "\n",
    "#(a)\n",
    "print(a==b)\n",
    "#This will be true because it is checking if a has the same values as b, if it is equal, which they are\n",
    "\n",
    "#(b)\n",
    "print(a is b)\n",
    "#this will be false because a and b are not pointing to the same object, they both have their own values,\n",
    "#even though they are both equivalent to [1, 2, 3]"
   ]
  },
  {
   "cell_type": "code",
   "execution_count": 9,
   "id": "e10c0b9d",
   "metadata": {},
   "outputs": [
    {
     "name": "stdout",
     "output_type": "stream",
     "text": [
      "[2, 3, 4]\n",
      "[2, 3, 4]\n",
      "[2, 3, 4]\n",
      "[1, 2, 3]\n"
     ]
    }
   ],
   "source": [
    "# Question 11\n",
    "\n",
    "#Given x = [1,2,3], write the Python code to:\n",
    "#(a) create a list y such that changing x also changes y.\n",
    "#(b) create a list y such that changing x does not change y.\n",
    "\n",
    "#(a)\n",
    "\n",
    "x = [1, 2, 3]\n",
    "y = x\n",
    "\n",
    "for i in range(len(x)):\n",
    "    x[i] = x[i] + 1\n",
    "    \n",
    "print(x)\n",
    "print(y)\n",
    "\n",
    "#(b)\n",
    "\n",
    "x = [1, 2, 3]\n",
    "y = x.copy()\n",
    "\n",
    "for i in range(len(x)):\n",
    "    x[i] = x[i] + 1\n",
    "    \n",
    "print(x)\n",
    "print(y)"
   ]
  },
  {
   "cell_type": "code",
   "execution_count": 10,
   "id": "097dd848",
   "metadata": {},
   "outputs": [
    {
     "name": "stdout",
     "output_type": "stream",
     "text": [
      "(1, 2, 3)\n",
      "[1, 2, 3]\n"
     ]
    }
   ],
   "source": [
    "# Question 17\n",
    "\n",
    "#What diferentiates a tuple from a list? Be specific.\n",
    "\n",
    "#Tuples cannot be modified, meaning they are immutable, and the commas are the important part,\n",
    "#whereas lists can be modified, meaning they are mutable. and use square brackets \n",
    "\n",
    "tuple = (1, 2, 3)\n",
    "list = [1,2,3]\n",
    "\n",
    "print(tuple)\n",
    "print(list)"
   ]
  },
  {
   "cell_type": "code",
   "execution_count": 13,
   "id": "cb24d15f",
   "metadata": {},
   "outputs": [
    {
     "name": "stdout",
     "output_type": "stream",
     "text": [
      "Even sum: 6\n",
      "Odd sum: 9\n"
     ]
    }
   ],
   "source": [
    "# Question 39\n",
    "\n",
    "#Given a list of integers L, use list comprehension to:\n",
    "#(a) find the sum of the even integers in list L\n",
    "#(b) find the sum of the odd integers in list L.\n",
    "\n",
    "L = [1, 2, 3, 4, 5]\n",
    "\n",
    "even = sum([i for i in L if i%2==0])\n",
    "odd = sum([i for i in L if i%2!=0])\n",
    "\n",
    "#(a)\n",
    "print(\"Even sum:\", even)\n",
    "\n",
    "#(b)\n",
    "print(\"Odd sum:\", odd)"
   ]
  },
  {
   "cell_type": "code",
   "execution_count": 25,
   "id": "2121fecd",
   "metadata": {},
   "outputs": [
    {
     "name": "stdout",
     "output_type": "stream",
     "text": [
      "['J', 'a', 'n', 'u', 'a', 'r', 'y']\n",
      "['J', 'a', 'a', 'n', 'r', 'u', 'y']\n"
     ]
    }
   ],
   "source": [
    "# Question 41\n",
    "\n",
    "#Given x='January 1, 2000':\n",
    "#(a) Using list comprehension, create a list of all the letters used in x.\n",
    "#(b) In one line, add to your list comprehension so the resulting list is sorted.\n",
    "\n",
    "x = 'January 1, 2000'\n",
    "\n",
    "#(a)\n",
    "list = ([i for i in x if i.isalpha()])\n",
    "print(list)\n",
    "\n",
    "#(b)\n",
    "sort = ([i for i in sorted(list)])\n",
    "print(sort)"
   ]
  }
 ],
 "metadata": {
  "kernelspec": {
   "display_name": "Python 3 (ipykernel)",
   "language": "python",
   "name": "python3"
  },
  "language_info": {
   "codemirror_mode": {
    "name": "ipython",
    "version": 3
   },
   "file_extension": ".py",
   "mimetype": "text/x-python",
   "name": "python",
   "nbconvert_exporter": "python",
   "pygments_lexer": "ipython3",
   "version": "3.9.12"
  }
 },
 "nbformat": 4,
 "nbformat_minor": 5
}
