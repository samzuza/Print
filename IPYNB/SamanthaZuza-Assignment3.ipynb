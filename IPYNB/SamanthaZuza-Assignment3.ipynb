{
 "cells": [
  {
   "cell_type": "code",
   "execution_count": 30,
   "metadata": {},
   "outputs": [
    {
     "name": "stdout",
     "output_type": "stream",
     "text": [
      "102\n",
      "119\n",
      "136\n",
      "153\n",
      "170\n",
      "187\n",
      "204\n",
      "221\n",
      "238\n",
      "255\n",
      "272\n",
      "289\n",
      "306\n",
      "323\n",
      "340\n",
      "357\n",
      "374\n",
      "391\n",
      "408\n",
      "425\n",
      "442\n",
      "459\n",
      "476\n",
      "493\n",
      "510\n",
      "527\n",
      "544\n",
      "561\n",
      "578\n",
      "595\n",
      "612\n",
      "629\n",
      "646\n",
      "663\n",
      "680\n",
      "697\n",
      "714\n",
      "731\n",
      "748\n",
      "765\n",
      "782\n",
      "799\n",
      "816\n",
      "833\n",
      "850\n",
      "867\n",
      "884\n",
      "901\n",
      "918\n",
      "935\n",
      "952\n",
      "969\n",
      "986\n",
      "There are 53 three-digit numbers that are divisible by 17.\n"
     ]
    }
   ],
   "source": [
    "# question 1\n",
    "i = 100\n",
    "count = 0\n",
    "while i in range(100,1000):\n",
    "    if i % 17 == 0:\n",
    "        print(i)\n",
    "        i+=1\n",
    "        count+=1\n",
    "    else:\n",
    "        i+=1\n",
    "print(\"There are\", count, \"three-digit numbers that are divisible by 17.\")"
   ]
  },
  {
   "cell_type": "code",
   "execution_count": 49,
   "metadata": {},
   "outputs": [
    {
     "name": "stdout",
     "output_type": "stream",
     "text": [
      "Type in a word: alphebetical\n",
      "pbil\n"
     ]
    }
   ],
   "source": [
    "# question 6\n",
    "key = input(\"Type in a word: \")\n",
    "newKey = ''\n",
    "i=0\n",
    "\n",
    "for i in range(len(key)):\n",
    "    if key == 'alphebetical':\n",
    "        if key[i] == 'p':\n",
    "            newKey+='p'\n",
    "            i+=1\n",
    "        elif key[i] == 'b':\n",
    "            newKey+='b'\n",
    "            i+=1\n",
    "        elif key[i] == 'i':\n",
    "            newKey+='i'\n",
    "            i+=1\n",
    "        elif i > 3 and key[i] == 'l':\n",
    "            newKey+='l'\n",
    "            i+=1\n",
    "        else:\n",
    "            i+=1\n",
    "        #if newKey == 'pbil':\n",
    "            #print(newKey)\n",
    "print(newKey)"
   ]
  },
  {
   "cell_type": "code",
   "execution_count": 48,
   "metadata": {},
   "outputs": [
    {
     "name": "stdout",
     "output_type": "stream",
     "text": [
      "10\n",
      "36\n"
     ]
    }
   ],
   "source": [
    "# question 11\n",
    "i=1\n",
    "j=0\n",
    "while i<10:\n",
    "    i+=1\n",
    "    j+=2*2\n",
    "print(i) # Line 1\n",
    "print(j) # Line 2\n",
    "\n",
    "#print(i) will print 10 because i starts at 1 and runs through the while loop 9 times\n",
    "#because on the 10th time, i=10 which does not fit the while loop criteria of i<10.\n",
    "#print(j) will print 36 because it also runs through the while loop 9 times based on the criteria of i < 10\n",
    "#every loop, 4 is added to j's value because 2*2=4\n",
    "#so after 9 loops, (9*4)=36, 36 is added to j's value of 0, making print(j) print 36."
   ]
  },
  {
   "cell_type": "code",
   "execution_count": null,
   "metadata": {},
   "outputs": [],
   "source": []
  },
  {
   "cell_type": "code",
   "execution_count": null,
   "metadata": {},
   "outputs": [],
   "source": []
  },
  {
   "cell_type": "code",
   "execution_count": null,
   "metadata": {},
   "outputs": [],
   "source": []
  }
 ],
 "metadata": {
  "kernelspec": {
   "display_name": "Python 3 (ipykernel)",
   "language": "python",
   "name": "python3"
  },
  "language_info": {
   "codemirror_mode": {
    "name": "ipython",
    "version": 3
   },
   "file_extension": ".py",
   "mimetype": "text/x-python",
   "name": "python",
   "nbconvert_exporter": "python",
   "pygments_lexer": "ipython3",
   "version": "3.9.12"
  }
 },
 "nbformat": 4,
 "nbformat_minor": 4
}
