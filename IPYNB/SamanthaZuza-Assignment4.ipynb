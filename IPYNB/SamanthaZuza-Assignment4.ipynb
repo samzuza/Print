{
 "cells": [
  {
   "cell_type": "code",
   "execution_count": 2,
   "metadata": {},
   "outputs": [],
   "source": [
    "# question 7\n",
    "#range(a, b)\n",
    "# Value \"a\" is included in the range\n",
    "#     TRUE\n",
    "# Value \"b\" is included in the range\n",
    "#     FALSE\n",
    "#For range(), it is first element inclusive and stops at the second element. range(1,4) is 1, 2, 3"
   ]
  },
  {
   "cell_type": "code",
   "execution_count": 1,
   "metadata": {},
   "outputs": [],
   "source": [
    "# question 9\n",
    "\n",
    "#(a)\n",
    "#if BooleanA:\n",
    "#     SuiteA\n",
    "#  if BooleanB:\n",
    "#       SuiteB\n",
    "\n",
    "#(b)\n",
    "#if BooleanA:\n",
    "#     SuiteA\n",
    "#  elif BooleanB:\n",
    "#      SuiteB\n",
    "\n",
    "#(a) has two if statements, it will check both statements, regardless of what is TRUE and FALSE.\n",
    "#this means that if BooleanA is TRUE, it will print and not print for FALSE. \n",
    "#whether BooleanA is TRUE or FALSE, the code will continue to BooleanB, where if it is TRUE then it will print and not print for FALSE.\n",
    "#whereas for (b) it only checks BooleanB if BooleanA is FALSE.\n",
    "#if BooleanA is TRUE, then it will print and skip BooleanB. \n",
    "#and if BooleanA is FALSE, then the code will continue to BooleanB to check if it is TRUE or FALSE and print the statement accordingly.\n",
    "\n",
    "\"\"\"\n",
    "Try running the code I inserted below and revise your answer to Q9a\n",
    "\"\"\""
   ]
  },
  {
   "cell_type": "code",
   "execution_count": 5,
   "metadata": {},
   "outputs": [
    {
     "name": "stdout",
     "output_type": "stream",
     "text": [
      "printing 2\n",
      "printing 4\n"
     ]
    }
   ],
   "source": [
    "boolean_A = False\n",
    "boolean_B = True\n",
    "\n",
    "if boolean_A:\n",
    "    print(\"printing 1\")\n",
    "if boolean_B:\n",
    "    print(\"printing 2\")\n",
    "    \n",
    "if boolean_A:\n",
    "    print(\"printing 3\")\n",
    "elif boolean_B:\n",
    "    print(\"printing 4\")\n"
   ]
  },
  {
   "cell_type": "code",
   "execution_count": 15,
   "metadata": {},
   "outputs": [
    {
     "name": "stdout",
     "output_type": "stream",
     "text": [
      "From 2 to 25, there are 12 odd numbers, 12 even numbers and 4 squares.\n",
      "There is a total of 28 odd, even and squares between 2 and 25.\n"
     ]
    }
   ],
   "source": [
    "# question 12\n",
    "\n",
    "oddCount = 0\n",
    "evenCount = 0\n",
    "squareCount = 0\n",
    "oddEvenSquare = 0\n",
    "str_number =''\n",
    "\n",
    "for numberCheck in range(2, 26, 1): \n",
    "    if (numberCheck % 2) == 1:\n",
    "        oddCount += 1\n",
    "    if (numberCheck % 2) == 0:\n",
    "        evenCount += 1\n",
    "    if (numberCheck ** (1/2)).is_integer():\n",
    "        squareCount += 1\n",
    "\n",
    "oddEvenSquare = oddCount + evenCount + squareCount\n",
    "print(\"From 2 to 25, there are\", oddCount, \"odd numbers,\", evenCount, \"even numbers and\", squareCount, \"squares.\")\n",
    "print(\"There is a total of\", oddEvenSquare, \"odd, even and squares between 2 and 25.\")"
   ]
  },
  {
   "cell_type": "code",
   "execution_count": 35,
   "metadata": {},
   "outputs": [
    {
     "name": "stdout",
     "output_type": "stream",
     "text": [
      "0\n",
      "2\n",
      "4\n",
      "6\n",
      "8\n",
      "10\n",
      "12\n",
      "14\n",
      "16\n"
     ]
    }
   ],
   "source": [
    "# question 14\n",
    "\n",
    "i = 0\n",
    "while (i < 17):\n",
    "    if (i % 2 == 0):\n",
    "        print(i)\n",
    "        i+=1\n",
    "    else:\n",
    "        i+=1"
   ]
  },
  {
   "cell_type": "code",
   "execution_count": 2,
   "metadata": {},
   "outputs": [
    {
     "name": "stdout",
     "output_type": "stream",
     "text": [
      "126\n"
     ]
    }
   ],
   "source": [
    "# question 15\n",
    "\n",
    "count = 0\n",
    "for counting in range(0, 100):\n",
    "    if (count < 100):\n",
    "        if (count % 2 == 0):\n",
    "            count+=1\n",
    "        else:\n",
    "            count*=2\n",
    "print(count)"
   ]
  },
  {
   "cell_type": "code",
   "execution_count": 47,
   "metadata": {},
   "outputs": [
    {
     "name": "stdout",
     "output_type": "stream",
     "text": [
      "found a 't' in sentence\n",
      "maybe the next character?\n",
      "maybe the next character?\n",
      "found a 't' in sentence\n",
      "maybe the next character?\n",
      "maybe the next character?\n",
      "maybe the next character?\n",
      "maybe the next character?\n",
      "maybe the next character?\n",
      "maybe the next character?\n",
      "maybe the next character?\n",
      "maybe the next character?\n",
      "maybe the next character?\n",
      "maybe the next character?\n",
      "maybe the next character?\n",
      "maybe the next character?\n",
      "maybe the next character?\n",
      "maybe the next character?\n",
      "maybe the next character?\n",
      "maybe the next character?\n",
      "maybe the next character?\n",
      "maybe the next character?\n",
      "maybe the next character?\n",
      "found a 't' in sentence\n"
     ]
    }
   ],
   "source": [
    "# question 24\n",
    "\n",
    "sentence= \"that car was really fast\"\n",
    "i=1\n",
    "while i>0:\n",
    "    for character in sentence:\n",
    "        if character == \"t\":\n",
    "            print(\"found a 't' in sentence\")\n",
    "            #the error\n",
    "            i-=1\n",
    "        else:\n",
    "            print(\"maybe the next character?\")\n",
    "            #the error\n",
    "            i-=1\n",
    "            \n",
    "#the error was that there was no increment/decrement to end the loop. I added the statement \"i-=1\" to the if/else statement."
   ]
  },
  {
   "cell_type": "code",
   "execution_count": 6,
   "metadata": {},
   "outputs": [
    {
     "name": "stdout",
     "output_type": "stream",
     "text": [
      "Pick a number to be added, no negatives: 200\n",
      "200\n",
      "Pick a number to be added, no negatives: -10\n",
      "You cannot input a negative number.\n"
     ]
    }
   ],
   "source": [
    "# question 35\n",
    "\n",
    "#Write a program that continually prompts for positive integers and stops when the sum\n",
    "#of numbers entered exceeds 1000. Stop early if a negative integer is entered.\n",
    "\n",
    "add = 0\n",
    "number = 0\n",
    "while (add <= 1000 and number >=0):\n",
    "    number = int(input(\"Pick a number to be added, no negatives: \"))\n",
    "    if (number >= 0):\n",
    "        add+=number\n",
    "        print(add)\n",
    "    else:\n",
    "        print(\"You cannot input a negative number.\")"
   ]
  },
  {
   "cell_type": "code",
   "execution_count": null,
   "metadata": {},
   "outputs": [],
   "source": []
  },
  {
   "cell_type": "code",
   "execution_count": null,
   "metadata": {},
   "outputs": [],
   "source": []
  },
  {
   "cell_type": "code",
   "execution_count": null,
   "metadata": {},
   "outputs": [],
   "source": []
  }
 ],
 "metadata": {
  "kernelspec": {
   "display_name": "Python 3 (ipykernel)",
   "language": "python",
   "name": "python3"
  },
  "language_info": {
   "codemirror_mode": {
    "name": "ipython",
    "version": 3
   },
   "file_extension": ".py",
   "mimetype": "text/x-python",
   "name": "python",
   "nbconvert_exporter": "python",
   "pygments_lexer": "ipython3",
   "version": "3.9.12"
  }
 },
 "nbformat": 4,
 "nbformat_minor": 4
}
