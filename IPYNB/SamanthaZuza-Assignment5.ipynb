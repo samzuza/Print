{
 "cells": [
  {
   "cell_type": "code",
   "execution_count": 3,
   "id": "0421ce08",
   "metadata": {},
   "outputs": [
    {
     "name": "stdout",
     "output_type": "stream",
     "text": [
      "M\n",
      "n\n",
      "n\n",
      "Monty\n"
     ]
    }
   ],
   "source": [
    "# question 1\n",
    "\n",
    "#Given the string \"Monty Python\":\n",
    "#(a) Write an expression to print the first character.\n",
    "#(b) Write an expression to print the last character.\n",
    "#(c) Write an expression inculding len to print the last character.\n",
    "#(d) Write an expression that prints \"Monty\".\n",
    "\n",
    "word = \"Monty Python\"\n",
    "#(a)\n",
    "print(word[0])\n",
    "#(b)\n",
    "print(word[11])\n",
    "#(c)\n",
    "length = len(word)\n",
    "last = word[length -1]\n",
    "print(last)\n",
    "#(d)\n",
    "print(word[0:5])"
   ]
  },
  {
   "cell_type": "code",
   "execution_count": 7,
   "id": "760beff1",
   "metadata": {},
   "outputs": [
    {
     "name": "stdout",
     "output_type": "stream",
     "text": [
      "abcdefghijklmnopqrstuvwxyz\n"
     ]
    }
   ],
   "source": [
    "# question 7\n",
    "\n",
    "#Given the string x='acegikmoqsuwy' and y='+bdfhjlnprtvxz', use indexing\n",
    "#to create a string z that is the lowercase English alphabet.\n",
    "\n",
    "x = 'acegikmoqsuwy'\n",
    "y = '+bdfhjlnprtvxz'\n",
    "z = ''\n",
    "\n",
    "for i in range(len(x)):\n",
    "    z = z + x[i] + y[i + 1]\n",
    "    \n",
    "print(z)"
   ]
  },
  {
   "cell_type": "code",
   "execution_count": 19,
   "id": "91a5eeda",
   "metadata": {},
   "outputs": [
    {
     "name": "stdout",
     "output_type": "stream",
     "text": [
      "8\n"
     ]
    }
   ],
   "source": [
    "# question 10\n",
    "\n",
    "#In the following program, replace the for with a while loop.\n",
    "#S=\"I had a cat named amanda when I was little\" \n",
    "#count = 0\n",
    "#for i in S:\n",
    "#   if i == \"a\":\n",
    "#      count += 1\n",
    "#print(count)\n",
    "\n",
    "S = \"I had a cat named amanda when I was little\"\n",
    "SLength = len(S)\n",
    "\n",
    "count = 0\n",
    "i = 0\n",
    "\n",
    "while i < S_length:\n",
    "    if S[i] == \"a\":\n",
    "        count += 1\n",
    "    i += 1\n",
    "    \n",
    "print(count)"
   ]
  },
  {
   "cell_type": "code",
   "execution_count": 20,
   "id": "6778a880",
   "metadata": {},
   "outputs": [],
   "source": [
    "# question 12\n",
    "\n",
    "#The following Python statement generates this error: “ValueError: too many values to unpack”. Why?\n",
    "#first ,second = input('two space-separated numbers:')\n",
    "\n",
    "# \"input\" asks for a string, but since you are trying to seperate it into the two variables, that is an unachievable\n",
    "# thing to do to break it and assign it to two different variables."
   ]
  },
  {
   "cell_type": "code",
   "execution_count": 21,
   "id": "2a385e06",
   "metadata": {},
   "outputs": [
    {
     "name": "stdout",
     "output_type": "stream",
     "text": [
      "flavor\n"
     ]
    }
   ],
   "source": [
    "# question 25\n",
    "\n",
    "#In British English, there is a word ‘flavour’. The American spelling is ‘flavor’. Suppose\n",
    "#you have a string in Python called brit_word = ‘flavour’ and you want to convert it into\n",
    "#the American variant and store it in a string called amer_word. How would you do it?\n",
    "\n",
    "brit_word = \"flavour\"\n",
    "amer_word = brit_word.replace(\"u\", \"\")\n",
    "print(amer_word)"
   ]
  },
  {
   "cell_type": "code",
   "execution_count": 22,
   "id": "1f972a8b",
   "metadata": {},
   "outputs": [
    {
     "name": "stdout",
     "output_type": "stream",
     "text": [
      "gniruT nalA\n"
     ]
    }
   ],
   "source": [
    "# question 27\n",
    "\n",
    "#(Reversing a string) Given a string, say X = ‘Alan Turing’, write an expression to reverse\n",
    "#it to get a string, Y = ‘gniruT nalA’.\n",
    "\n",
    "X = \"Alan Turing\"\n",
    "print(X[::-1])"
   ]
  },
  {
   "cell_type": "code",
   "execution_count": 29,
   "id": "6a1f8182",
   "metadata": {},
   "outputs": [
    {
     "name": "stdout",
     "output_type": "stream",
     "text": [
      "Type a word: sam\n",
      "Type a second word: lana\n",
      "Sam\n",
      "LANA\n"
     ]
    }
   ],
   "source": [
    "# question 37\n",
    "\n",
    "#Write a program that prompts for two words. Print the longer one in all capitals and\n",
    "#capitalize the first letter of the second word.\n",
    "\n",
    "first = input(\"Type a word: \")\n",
    "firstLen = len(first)\n",
    "\n",
    "second = input(\"Type a second word: \")\n",
    "secondLen = len(second)\n",
    "\n",
    "if firstLen < secondLen:\n",
    "    print(first.capitalize())\n",
    "    print(second.upper())\n",
    "else:\n",
    "    print(first.upper())\n",
    "    print(second.capitalize())"
   ]
  },
  {
   "cell_type": "code",
   "execution_count": null,
   "id": "7faee2a1",
   "metadata": {},
   "outputs": [],
   "source": []
  },
  {
   "cell_type": "code",
   "execution_count": null,
   "id": "4ff263ef",
   "metadata": {},
   "outputs": [],
   "source": []
  }
 ],
 "metadata": {
  "kernelspec": {
   "display_name": "Python 3 (ipykernel)",
   "language": "python",
   "name": "python3"
  },
  "language_info": {
   "codemirror_mode": {
    "name": "ipython",
    "version": 3
   },
   "file_extension": ".py",
   "mimetype": "text/x-python",
   "name": "python",
   "nbconvert_exporter": "python",
   "pygments_lexer": "ipython3",
   "version": "3.9.12"
  }
 },
 "nbformat": 4,
 "nbformat_minor": 5
}
