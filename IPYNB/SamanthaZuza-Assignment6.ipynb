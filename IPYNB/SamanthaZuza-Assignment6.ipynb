{
 "cells": [
  {
   "cell_type": "code",
   "execution_count": 1,
   "id": "6881b0eb",
   "metadata": {},
   "outputs": [],
   "source": [
    "# Chapter 5"
   ]
  },
  {
   "cell_type": "code",
   "execution_count": 2,
   "id": "cc09d573",
   "metadata": {},
   "outputs": [
    {
     "name": "stdout",
     "output_type": "stream",
     "text": [
      "What is the score of Team 1?: 15\n",
      "What is the score of Team 2?: 12\n",
      "Team 1 won the game!\n"
     ]
    }
   ],
   "source": [
    "# Question 8\n",
    "\n",
    "#Write a function that takes in the final scores of two soccer teams as arguments and\n",
    "#prints either who won the game or whether the game was tied. Refer to the teams as\n",
    "#“Team1” or “Team2.” The function returns nothing.\n",
    "\n",
    "def final(Team1, Team2):\n",
    "    if Team1 < Team2:\n",
    "        print(\"Team 2 won the game!\")\n",
    "    elif Team1 > Team2:\n",
    "        print(\"Team 1 won the game!\")\n",
    "    else:\n",
    "        print(\"The game was tied!\")\n",
    "\n",
    "\n",
    "Team1 = int(input(\"What is the score of Team 1?: \"))\n",
    "Team2 = int(input(\"What is the score of Team 2?: \"))\n",
    "final(Team1, Team2)"
   ]
  },
  {
   "cell_type": "code",
   "execution_count": 3,
   "id": "61baa999",
   "metadata": {},
   "outputs": [
    {
     "name": "stdout",
     "output_type": "stream",
     "text": [
      "Enter any English sentence: Hi I'm Sam!\n",
      "Vowel count is 3 and consonant count is 4\n"
     ]
    }
   ],
   "source": [
    "# Question 9\n",
    "\n",
    "#Write a function that takes as input an English sentence (a string) and prints the total\n",
    "#number of vowels and the total number of consonants in the sentence. The function re-\n",
    "#turns nothing. Note that the sentence could have special characters such as dots, dashes,\n",
    "#and so on.\n",
    "\n",
    "def counter(sentence): \n",
    "    \n",
    "    newSentence = sentence.upper()\n",
    "    SLength = len(sentence)\n",
    "    vowels = 'AEIOU'\n",
    "    \n",
    "    vowelCount = 0\n",
    "    consonantCount = 0\n",
    "    symbolCount = 0\n",
    "    \n",
    "    i = 0\n",
    "    \n",
    "    for i in newSentence:\n",
    "        \n",
    "        if i.isalpha() == True: \n",
    "            if i in vowels:\n",
    "                vowelCount+=1\n",
    "            elif i.isalpha():\n",
    "                consonantCount+=1\n",
    "            else:\n",
    "                symbolCount+=1\n",
    "    \n",
    "    print(\"Vowel count is\", vowelCount, \"and consonant count is\", consonantCount)\n",
    "\n",
    "    \n",
    "\n",
    "sentence = input(\"Enter any English sentence: \")\n",
    "counter(sentence)"
   ]
  },
  {
   "cell_type": "code",
   "execution_count": 14,
   "id": "cecdd6b6",
   "metadata": {},
   "outputs": [
    {
     "name": "stdout",
     "output_type": "stream",
     "text": [
      "Are you a member? Type 'Y' for yes and 'N' for no: y\n",
      "Type in the cost of the item: 100\n",
      "Your price after the discount is: $ 85.0\n"
     ]
    }
   ],
   "source": [
    "# Question 11\n",
    "\n",
    "#Suppose you are purchasing something online on the Internet. At the website, you get\n",
    "#a 10% discount if you are a member. Additionally, you are also getting a discount of\n",
    "#5% on the item because its Father’s Day.\n",
    "#Write a function that takes as input the cost of the item that you are purchasing and\n",
    "#a Boolean variable indicating whether you are a member (or not), applies the discounts\n",
    "#appropriately, and returns the final discounted value of the item.\n",
    "#Note: The cost of the item need not be an integer.\n",
    "\n",
    "def discountAmount(member, cost):\n",
    "    if member == 'Y':\n",
    "        discount = 0.15\n",
    "    else:\n",
    "        discount = 0.05\n",
    "    \n",
    "    newCost = cost - (cost * discount)\n",
    "\n",
    "    print(\"Your price after the discount is: $\", newCost)\n",
    "    \n",
    "    \n",
    "member = input(\"Are you a member? Type 'Y' for yes and 'N' for no: \")\n",
    "member = member.upper()\n",
    "\n",
    "cost = float(input(\"Type in the cost of the item: \"))\n",
    "discountAmount(member, cost)"
   ]
  },
  {
   "cell_type": "code",
   "execution_count": 24,
   "id": "b60dd61d",
   "metadata": {},
   "outputs": [
    {
     "name": "stdout",
     "output_type": "stream",
     "text": [
      "Enter a year to check if it is a leap year: 2000\n",
      "Yes, this is a leap year!\n"
     ]
    }
   ],
   "source": [
    "# Question 12\n",
    "\n",
    "#A leap year in the Gregorian calendar system is a year that’s divisible by 4 but not by\n",
    "#100, unless it is also divisible by 400. For example, 1896, 1904, and 2000 were leap years\n",
    "#but 1900 was not. Write a function that takes in a year as input and prints whether it’s a\n",
    "#leap year (or not).\n",
    "\n",
    "def leapYear(year):\n",
    "    if year % 4 == 0 and year % 100 == 0 and year % 400 == 0:\n",
    "        print(\"Yes, this is a leap year!\")\n",
    "    else:\n",
    "        print(\"No, this is not a leap year.\")\n",
    "\n",
    "    \n",
    "year = int(input(\"Enter a year to check if it is a leap year: \"))\n",
    "leapYear(year)"
   ]
  },
  {
   "cell_type": "code",
   "execution_count": 34,
   "id": "70e0a8f6",
   "metadata": {},
   "outputs": [
    {
     "name": "stdout",
     "output_type": "stream",
     "text": [
      "Enter a message, only 160 characters allowed: #In certain chat programs or messaging applications, there is a limit on the number #of characters that you can send in a message. Write a function that takes as input the #message (a string) and checks whether the number of characters is less than 160 (or #not).\n",
      "#In certain chat programs or messaging applications, there is a limit on the number #of characters that you can send in a message. Write a function that takes a\n"
     ]
    }
   ],
   "source": [
    "# Question 15a\n",
    "\n",
    "#In certain chat programs or messaging applications, there is a limit on the number\n",
    "#of characters that you can send in a message. Write a function that takes as input the\n",
    "#message (a string) and checks whether the number of characters is less than 160 (or\n",
    "#not). If the length of the message is less than 160, the message should be returned.\n",
    "#If the length of the message is greater than 160, a string consisting of only the first\n",
    "#160 characters should be returned.\n",
    "\n",
    "def lengthCheck(message):\n",
    "    print(message[:160])\n",
    "    \n",
    "    \n",
    "message = input(\"Enter a message, only 160 characters allowed: \")\n",
    "lengthCheck(message)"
   ]
  },
  {
   "cell_type": "code",
   "execution_count": 33,
   "id": "8ab3c326",
   "metadata": {},
   "outputs": [],
   "source": [
    "# Chapter 6"
   ]
  },
  {
   "cell_type": "code",
   "execution_count": 40,
   "id": "9717ecb2",
   "metadata": {},
   "outputs": [
    {
     "name": "stdout",
     "output_type": "stream",
     "text": [
      "Open what file:hi\n",
      "The file hi doesn't exist.\n",
      "End of the program\n"
     ]
    }
   ],
   "source": [
    "# Question 2\n",
    "\n",
    "#In the exception example of Section 6.6.4 when error “(2) bad file name” occurred the\n",
    "#user had to enter a line number before the error occurred. Rewrite the code so that if a\n",
    "#bad file name is entered, the error will be handled before a line number is requested.\n",
    "\n",
    "# read a particular line from a file. User provides both the line number and the file name\n",
    "file_str = input(\"Open what file:\")\n",
    "#find line str = input(\"Which line (integer):\")\n",
    "# I'm moving this line, that is why it is commented out\n",
    "\n",
    "try:\n",
    "    input_file = open(file_str) # potential user error\n",
    "    # I moved the below line because the user has to enter a line number before the error occurs\n",
    "    find_line_str = input(\"Which line (integer):\")\n",
    "    find_line_int = int(find_line_str) # potential user error\n",
    "    line_count_int = 1\n",
    "    for line_str in input_file:\n",
    "        if line_count_int == find_line_int:\n",
    "            print(\"Line {} of file {} is {}\".format(find_line_int, file_str, line_str))\n",
    "            break\n",
    "        line_count_int += 1\n",
    "    else:\n",
    "        # get here if line sought doesn't exist\n",
    "        print(\"Line {} of file {} not found\".format(find_line_int, file_str))\n",
    "    input_file.close()\n",
    "\n",
    "except FileNotFoundError:\n",
    "    print(\"The file\",file_str,\"doesn't exist.\")\n",
    "\n",
    "except ValueError:\n",
    "    print(\"Line\",find_line_str,\"isn't a legal line number.\")\n",
    "\n",
    "print(\"End of the program\")"
   ]
  }
 ],
 "metadata": {
  "kernelspec": {
   "display_name": "Python 3 (ipykernel)",
   "language": "python",
   "name": "python3"
  },
  "language_info": {
   "codemirror_mode": {
    "name": "ipython",
    "version": 3
   },
   "file_extension": ".py",
   "mimetype": "text/x-python",
   "name": "python",
   "nbconvert_exporter": "python",
   "pygments_lexer": "ipython3",
   "version": "3.9.12"
  }
 },
 "nbformat": 4,
 "nbformat_minor": 5
}
